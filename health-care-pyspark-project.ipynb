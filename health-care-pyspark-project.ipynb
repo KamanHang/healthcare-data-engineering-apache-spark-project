{
 "cells": [
  {
   "cell_type": "code",
   "execution_count": 0,
   "metadata": {
    "application/vnd.databricks.v1+cell": {
     "cellMetadata": {
      "byteLimit": 2048000,
      "rowLimit": 10000
     },
     "inputWidgets": {},
     "nuid": "fcc67607-6146-4315-88d6-be2462ad5900",
     "showTitle": false,
     "tableResultSettingsMap": {},
     "title": ""
    }
   },
   "outputs": [
    {
     "output_type": "display_data",
     "data": {
      "text/html": [
       "\n",
       "            <div>\n",
       "                <p><b>SparkSession - hive</b></p>\n",
       "                \n",
       "        <div>\n",
       "            <p><b>SparkContext</b></p>\n",
       "\n",
       "            <p><a href=\"/?o=3382754090532250#setting/sparkui/0218-182336-b6r6ibqb/driver-2945649719302933201\">Spark UI</a></p>\n",
       "\n",
       "            <dl>\n",
       "              <dt>Version</dt>\n",
       "                <dd><code>v3.3.2</code></dd>\n",
       "              <dt>Master</dt>\n",
       "                <dd><code>local[8]</code></dd>\n",
       "              <dt>AppName</dt>\n",
       "                <dd><code>Databricks Shell</code></dd>\n",
       "            </dl>\n",
       "        </div>\n",
       "        \n",
       "            </div>\n",
       "        "
      ]
     },
     "metadata": {
      "application/vnd.databricks.v1+output": {
       "addedWidgets": {},
       "arguments": {},
       "data": "\n            <div>\n                <p><b>SparkSession - hive</b></p>\n                \n        <div>\n            <p><b>SparkContext</b></p>\n\n            <p><a href=\"/?o=3382754090532250#setting/sparkui/0218-182336-b6r6ibqb/driver-2945649719302933201\">Spark UI</a></p>\n\n            <dl>\n              <dt>Version</dt>\n                <dd><code>v3.3.2</code></dd>\n              <dt>Master</dt>\n                <dd><code>local[8]</code></dd>\n              <dt>AppName</dt>\n                <dd><code>Databricks Shell</code></dd>\n            </dl>\n        </div>\n        \n            </div>\n        ",
       "datasetInfos": [],
       "metadata": {},
       "removedWidgets": [],
       "textData": null,
       "type": "htmlSandbox"
      }
     },
     "output_type": "display_data"
    }
   ],
   "source": [
    "spark"
   ]
  },
  {
   "cell_type": "code",
   "execution_count": 0,
   "metadata": {
    "application/vnd.databricks.v1+cell": {
     "cellMetadata": {
      "byteLimit": 2048000,
      "rowLimit": 10000
     },
     "inputWidgets": {},
     "nuid": "87adfdb3-39af-47fe-8c63-be7a6b67fcb0",
     "showTitle": false,
     "tableResultSettingsMap": {},
     "title": ""
    }
   },
   "outputs": [],
   "source": [
    "# Performing necessary imports required for the project\n",
    "from pyspark.sql import SparkSession\n",
    "from pyspark.sql.functions import *\n",
    "from pyspark.sql.types import *"
   ]
  },
  {
   "cell_type": "code",
   "execution_count": 0,
   "metadata": {
    "application/vnd.databricks.v1+cell": {
     "cellMetadata": {
      "byteLimit": 2048000,
      "rowLimit": 10000
     },
     "inputWidgets": {},
     "nuid": "b305ec79-de0d-4ed5-af3a-f2f794a6ea48",
     "showTitle": false,
     "tableResultSettingsMap": {},
     "title": ""
    }
   },
   "outputs": [],
   "source": [
    "# Function for defining Struct type for different datasets\n",
    "def define_schemas():    \n",
    "\n",
    "    # Schema for Encounters Dataset\n",
    "    encounters_schema = StructType([\n",
    "        StructField(\"id\", StringType(), True),\n",
    "        StructField(\"start\", TimestampType(), True),\n",
    "        StructField(\"stop\", TimestampType(), True),\n",
    "        StructField(\"patient\", StringType(), True),\n",
    "        StructField(\"organization\", StringType(), True),\n",
    "        StructField(\"provider\", StringType(), True),\n",
    "        StructField(\"payer\", StringType(), True),\n",
    "        StructField(\"encounterclass\", StringType(), True),\n",
    "        StructField(\"code\", IntegerType(), True),\n",
    "        StructField(\"description\", StringType(), True),\n",
    "        StructField(\"base_encounter_cost\", DoubleType(), True),\n",
    "        StructField(\"total_claim_cost\", DoubleType(), True),\n",
    "        StructField(\"payer_coverage\", DoubleType(), True),\n",
    "        StructField(\"reasoncode\", StringType(), True)\n",
    "    ])\n",
    "\n",
    "    # Schema for Patient Dataset\n",
    "    patients_schema = StructType([\n",
    "        StructField(\"id\", StringType(), True),\n",
    "        StructField(\"birthdate\", DateType(), True),\n",
    "        StructField(\"deathdate\", DateType(), True),\n",
    "        StructField(\"ssn\", StringType(), True),\n",
    "        StructField(\"drivers\", StringType(), True),\n",
    "        StructField(\"passport\", StringType(), True),\n",
    "        StructField(\"prefix\", StringType(), True),\n",
    "        StructField(\"first\", StringType(), True),\n",
    "        StructField(\"last\", StringType(), True),\n",
    "        StructField(\"suffix\", StringType(), True),\n",
    "        StructField(\"maiden\", StringType(), True),\n",
    "        StructField(\"marital\", StringType(), True),\n",
    "        StructField(\"race\", StringType(), True),\n",
    "        StructField(\"ethnicity\", StringType(), True),\n",
    "        StructField(\"gender\", StringType(), True),\n",
    "        StructField(\"birthplace\", StringType(), True),\n",
    "        StructField(\"address\", StringType(), True),\n",
    "        StructField(\"city\", StringType(), True),\n",
    "        StructField(\"state\", StringType(), True),\n",
    "        StructField(\"county\", StringType(), True),\n",
    "        StructField(\"fips\", IntegerType(), True),\n",
    "        StructField(\"zip\", IntegerType(), True),\n",
    "        StructField(\"lat\", DoubleType(), True),\n",
    "        StructField(\"lon\", DoubleType(), True),\n",
    "        StructField(\"healthcare_expenses\", DoubleType(), True),\n",
    "        StructField(\"healthcare_coverage\", DoubleType(), True),\n",
    "        StructField(\"income\", IntegerType(), True),\n",
    "        StructField(\"mrn\", IntegerType(), True)\n",
    "    ])\n",
    "\n",
    "    # Schema for Conditions Dataset\n",
    "    conditions_schema = StructType([\n",
    "    StructField(\"start\", TimestampType(),True),\n",
    "    StructField(\"stop\", TimestampType(),True),\n",
    "    StructField(\"patient\", StringType(),True),\n",
    "    StructField(\"encounter\", StringType(),True),\n",
    "    StructField(\"code\", StringType(),True),\n",
    "    StructField(\"description\", StringType(),True),\n",
    "    ])\n",
    "\n",
    "\n",
    "    # Schema for Immunization Dataset\n",
    "    immunizations_schema = StructType([\n",
    "        StructField(\"date\", TimestampType(), True),\n",
    "        StructField(\"patient\", StringType(), True),\n",
    "        StructField(\"encounter\", StringType(), True),\n",
    "        StructField(\"code\", IntegerType(), True),\n",
    "        StructField(\"description\", StringType(), True)\n",
    "    ])\n",
    "    \n",
    "    return patients_schema, encounters_schema, conditions_schema, immunizations_schema\n",
    "\n",
    "\n",
    "\n",
    "\n"
   ]
  },
  {
   "cell_type": "markdown",
   "metadata": {
    "application/vnd.databricks.v1+cell": {
     "cellMetadata": {},
     "inputWidgets": {},
     "nuid": "83b44841-f291-4a5b-8c9a-e735a8f20aa2",
     "showTitle": false,
     "tableResultSettingsMap": {},
     "title": ""
    }
   },
   "source": [
    "### Data Extraction"
   ]
  },
  {
   "cell_type": "code",
   "execution_count": 0,
   "metadata": {
    "application/vnd.databricks.v1+cell": {
     "cellMetadata": {
      "byteLimit": 2048000,
      "rowLimit": 10000
     },
     "inputWidgets": {},
     "nuid": "7a7118da-172c-495a-997e-09c2699cd57d",
     "showTitle": false,
     "tableResultSettingsMap": {},
     "title": ""
    }
   },
   "outputs": [],
   "source": [
    "def extract_data(spark, patients_schema, encounters_schema, conditions_schema, immunizations_schema):\n",
    "    encounters_df = spark.read.csv(\"s3://health-care-data-bucket/encounters.csv\", schema=encounters_schema, header=True)\n",
    "    patients_df = spark.read.csv(\"s3://health-care-data-bucket/patients.csv\", schema=patients_schema, header=True)\n",
    "    conditions_df = spark.read.csv(\"s3://health-care-data-bucket/conditions.csv\", schema=conditions_schema, header=True)\n",
    "    immunizations_df = spark.read.csv(\"s3://health-care-data-bucket/immunizations.csv\", schema=immunizations_schema, header=True)\n",
    "    return patients_df, encounters_df, conditions_df, immunizations_df"
   ]
  },
  {
   "cell_type": "markdown",
   "metadata": {
    "application/vnd.databricks.v1+cell": {
     "cellMetadata": {},
     "inputWidgets": {},
     "nuid": "2509f92a-46f6-465d-b77d-c6ff734dc9b8",
     "showTitle": false,
     "tableResultSettingsMap": {},
     "title": ""
    }
   },
   "source": [
    "### Data Cleaning and Transformation"
   ]
  },
  {
   "cell_type": "code",
   "execution_count": 0,
   "metadata": {
    "application/vnd.databricks.v1+cell": {
     "cellMetadata": {
      "byteLimit": 2048000,
      "rowLimit": 10000
     },
     "inputWidgets": {},
     "nuid": "aaa65c7f-8940-45ba-942a-92fa733e5436",
     "showTitle": false,
     "tableResultSettingsMap": {},
     "title": ""
    }
   },
   "outputs": [],
   "source": [
    "def transform_data(patients_df, encounters_df, conditions_df, immunizations_df):\n",
    "\n",
    "# Cleaning and Few Transformation PATIENT DATA \n",
    "    clean_patients_df = patients_df\\\n",
    "        .withColumn(\"gender\", when(col(\"gender\") == \"M\", \"Male\")\\\n",
    "                    .when(col(\"gender\") == \"F\", \"Female\")\\\n",
    "                    .otherwise(\"Unknown\"))\\\n",
    "        .withColumn(\"marital\", when(col(\"marital\") == \"M\", \"Married\")\\\n",
    "                    .when(col(\"marital\") == \"S\", \"Single\")\\\n",
    "                    .when(col(\"marital\") == \"D\", \"Divorced\")\\\n",
    "                    .otherwise(\"Unknown\"))\\\n",
    "        .withColumnRenamed(\"id\", \"patient_id\")\\\n",
    "        .withColumnRenamed(\"first\", \"first_name\")\\\n",
    "        .withColumnRenamed(\"last\", \"last_name\")\\\n",
    "        .withColumnRenamed(\"lat\",\"latitude\")\\\n",
    "        .withColumnRenamed(\"lon\",\"longitutde\")\n",
    "    # clean_patients_df.limit(10).display()\n",
    "\n",
    "# Cleaning and Few Transformation IMMUNIZATION DATA \n",
    "    clean_immunization_df = immunizations_df\\\n",
    "        .withColumn(\"date\", immunizations_df[\"date\"].cast(\"date\")).withColumnRenamed('patient','vaccined_patient_id')\\\n",
    "        .withColumnRenamed(\"encounter\",\"encounter_id\")\\\n",
    "        .withColumnRenamed(\"code\",\"vaccine_code\")\n",
    "\n",
    "# Cleaning and Few Transformation ENCOUNTERS DATA \n",
    "    #Start Date and Time Seperation\n",
    "    clean_immunization_df = encounters_df\\\n",
    "        .withColumn(\"start_time\", date_format('start', 'HH:mm:ss') )\\\n",
    "        .withColumn(\"start\", encounters_df['start'].cast('date'))\\\n",
    "        .withColumn(\"end_time\", date_format('stop', 'HH:mm:ss'))\\\n",
    "        .withColumn(\"stop\", encounters_df['stop'].cast('date'))\\\n",
    "        .withColumnRenamed('id','encounter_id')\\\n",
    "        .withColumnRenamed('start','start_date')\\\n",
    "        .withColumnRenamed('stop','stop_date')\\\n",
    "        .withColumnRenamed('patient','patient_id')\\\n",
    "        .withColumnRenamed('code','encounter_code')\n",
    "\n",
    "    # clean_immunization_df.limit(10).display()\n",
    "    "
   ]
  },
  {
   "cell_type": "markdown",
   "metadata": {
    "application/vnd.databricks.v1+cell": {
     "cellMetadata": {
      "byteLimit": 2048000,
      "rowLimit": 10000
     },
     "inputWidgets": {},
     "nuid": "b35b506a-cca4-49d8-9d5f-a58fcab72544",
     "showTitle": false,
     "tableResultSettingsMap": {},
     "title": ""
    }
   },
   "source": [
    "### Code Execution"
   ]
  },
  {
   "cell_type": "code",
   "execution_count": 0,
   "metadata": {
    "application/vnd.databricks.v1+cell": {
     "cellMetadata": {
      "byteLimit": 2048000,
      "rowLimit": 10000
     },
     "inputWidgets": {},
     "nuid": "6fe3ea9c-22f2-4316-9500-51a683145559",
     "showTitle": false,
     "tableResultSettingsMap": {},
     "title": ""
    }
   },
   "outputs": [
    {
     "output_type": "display_data",
     "data": {
      "text/html": [
       "<style scoped>\n",
       "  .table-result-container {\n",
       "    max-height: 300px;\n",
       "    overflow: auto;\n",
       "  }\n",
       "  table, th, td {\n",
       "    border: 1px solid black;\n",
       "    border-collapse: collapse;\n",
       "  }\n",
       "  th, td {\n",
       "    padding: 5px;\n",
       "  }\n",
       "  th {\n",
       "    text-align: left;\n",
       "  }\n",
       "</style><div class='table-result-container'><table class='table-result'><thead style='background-color: white'><tr><th>encounter_id</th><th>start_date</th><th>stop_date</th><th>patient_id</th><th>organization</th><th>provider</th><th>payer</th><th>encounterclass</th><th>encounter_code</th><th>description</th><th>base_encounter_cost</th><th>total_claim_cost</th><th>payer_coverage</th><th>reasoncode</th><th>start_time</th><th>end_time</th></tr></thead><tbody><tr><td>be86bb53-1982-c56d-ee22-ac961787aa0c</td><td>2018-04-07</td><td>2018-04-07</td><td>bb8d3c0d-78f6-747e-bd03-9de9efd98a21</td><td>9d0e702d-50a0-3f4c-9126-0951d560fd4b</td><td>179a5ef5-b06b-39c2-82f8-b552b709eb3c</td><td>8fa6c185-e44e-3e34-8bd8-39be8694f4ce</td><td>ambulatory</td><td>1032</td><td>Hospital Encounter with Problem</td><td>85.55</td><td>85.55</td><td>0.0</td><td>NULL</td><td>21:17:11</td><td>21:32:11</td></tr><tr><td>a185944c-70c1-3fdf-073a-9ba86d29606d</td><td>2019-10-25</td><td>2019-10-25</td><td>bb8d3c0d-78f6-747e-bd03-9de9efd98a21</td><td>9d0e702d-50a0-3f4c-9126-0951d560fd4b</td><td>179a5ef5-b06b-39c2-82f8-b552b709eb3c</td><td>8fa6c185-e44e-3e34-8bd8-39be8694f4ce</td><td>ambulatory</td><td>1032</td><td>Hospital Encounter with Problem</td><td>85.55</td><td>85.55</td><td>0.0</td><td>NULL</td><td>12:17:11</td><td>12:32:11</td></tr><tr><td>67deb48d-6bc0-8142-189d-1f10abc7c6bc</td><td>2018-12-13</td><td>2018-12-13</td><td>a3a96fd1-3638-41d3-72dc-efc248f2b887</td><td>217cb6f6-e822-3831-9d9d-ffa104971042</td><td>7077be2a-5b48-35f1-98b8-5e5b5a42343b</td><td>26aab0cd-6aba-3e1b-ac5b-05c8867e762c</td><td>ambulatory</td><td>1032</td><td>Hospital Encounter with Problem</td><td>85.55</td><td>85.55</td><td>0.0</td><td>NULL</td><td>23:11:54</td><td>23:26:54</td></tr><tr><td>de112f81-cfa9-ab77-8c56-e7ee074a0abe</td><td>2022-10-09</td><td>2022-10-09</td><td>b1a0a29e-113d-903c-6cef-016235be98e8</td><td>ae3eab22-8868-37bb-9a59-2b8bfe14bf34</td><td>1e9fb93b-b6e1-3e44-b1d6-cb0c323bee95</td><td>d31fccc3-1767-390d-966a-22a5156f4219</td><td>ambulatory</td><td>1032</td><td>Hospital Encounter with Problem</td><td>85.55</td><td>85.55</td><td>0.0</td><td>NULL</td><td>01:53:22</td><td>02:08:22</td></tr><tr><td>ea6202ee-7152-3e80-d779-5a53fe351f19</td><td>2020-05-09</td><td>2020-05-09</td><td>bd603d4c-3093-2104-e5f0-360cb08b7536</td><td>901c2d40-1ca3-3879-9a20-c663b8adc0a9</td><td>ec66f0b4-c703-33ad-ac54-5c1480a450de</td><td>b046940f-1664-3047-bca7-dfa76be352a4</td><td>ambulatory</td><td>1032</td><td>Hospital Encounter with Problem</td><td>85.55</td><td>85.55</td><td>21.71</td><td>NULL</td><td>13:34:31</td><td>13:49:31</td></tr><tr><td>1ace1153-4699-5c0c-4f3a-58cb3c2ec648</td><td>2022-03-05</td><td>2022-03-05</td><td>2afea9cf-f03f-7408-0535-d640b003c339</td><td>5018c664-e283-30eb-932a-529d9a19b3b5</td><td>0204406f-f2dd-35c4-8945-a4d788d4a287</td><td>b046940f-1664-3047-bca7-dfa76be352a4</td><td>ambulatory</td><td>1032</td><td>Hospital Encounter with Problem</td><td>85.55</td><td>85.55</td><td>0.0</td><td>NULL</td><td>08:43:58</td><td>08:58:58</td></tr><tr><td>74c235c9-59c0-94b7-ec80-108da7a1165f</td><td>2017-08-31</td><td>2017-08-31</td><td>0fab3069-e6e1-33a8-c21c-580c6cc989f4</td><td>b6eeaaf7-1683-3bcb-b6ee-81ce304636ef</td><td>9deecdc7-972f-378a-8659-6981b6cd3bd4</td><td>e03e23c9-4df1-3eb6-a62d-f70f02301496</td><td>ambulatory</td><td>1032</td><td>Hospital Encounter with Problem</td><td>85.55</td><td>85.55</td><td>0.0</td><td>NULL</td><td>17:23:50</td><td>17:38:50</td></tr><tr><td>8f45763c-ea2d-e462-7f94-5b0a95247b8e</td><td>2022-05-12</td><td>2022-05-12</td><td>4361f740-2bce-01eb-00d1-5b3344ae7464</td><td>0fedae9f-701f-3317-9b2f-69aea2202cdc</td><td>abdf12f9-2a02-3ca4-8b36-673a675a6771</td><td>b046940f-1664-3047-bca7-dfa76be352a4</td><td>ambulatory</td><td>1032</td><td>Hospital Encounter with Problem</td><td>85.55</td><td>85.55</td><td>0.0</td><td>NULL</td><td>08:13:56</td><td>08:28:56</td></tr><tr><td>7eedb204-e714-7944-8fe4-35bcc593daf1</td><td>2016-12-18</td><td>2016-12-18</td><td>dc5fe737-c79e-66d7-b834-cec1ae473dab</td><td>20df65a4-7567-3066-b680-0f71b0c31d38</td><td>13bd9bb2-e784-35c1-8a3d-cb10f8488571</td><td>0133f751-9229-3cfd-815f-b6d4979bdd6a</td><td>ambulatory</td><td>1032</td><td>Hospital Encounter with Problem</td><td>85.55</td><td>85.55</td><td>85.55</td><td>NULL</td><td>06:40:37</td><td>06:55:37</td></tr><tr><td>0f640694-f5f5-ef8e-a582-c2b2ceaf8e6a</td><td>2019-07-28</td><td>2019-07-28</td><td>a9562614-9c3a-6246-a12e-10cff583a743</td><td>a537b406-fdfa-36b4-84da-12512e7e6c63</td><td>e714484d-1a16-3a8c-98fe-842ff9655cd5</td><td>26aab0cd-6aba-3e1b-ac5b-05c8867e762c</td><td>ambulatory</td><td>1032</td><td>Hospital Encounter with Problem</td><td>85.55</td><td>85.55</td><td>0.0</td><td>NULL</td><td>22:24:47</td><td>22:39:47</td></tr></tbody></table></div>"
      ]
     },
     "metadata": {
      "application/vnd.databricks.v1+output": {
       "addedWidgets": {},
       "aggData": [],
       "aggError": "",
       "aggOverflow": false,
       "aggSchema": [],
       "aggSeriesLimitReached": false,
       "aggType": "",
       "arguments": {},
       "columnCustomDisplayInfos": {},
       "data": [
        [
         "be86bb53-1982-c56d-ee22-ac961787aa0c",
         "2018-04-07",
         "2018-04-07",
         "bb8d3c0d-78f6-747e-bd03-9de9efd98a21",
         "9d0e702d-50a0-3f4c-9126-0951d560fd4b",
         "179a5ef5-b06b-39c2-82f8-b552b709eb3c",
         "8fa6c185-e44e-3e34-8bd8-39be8694f4ce",
         "ambulatory",
         1032,
         "Hospital Encounter with Problem",
         85.55,
         85.55,
         0.0,
         "NULL",
         "21:17:11",
         "21:32:11"
        ],
        [
         "a185944c-70c1-3fdf-073a-9ba86d29606d",
         "2019-10-25",
         "2019-10-25",
         "bb8d3c0d-78f6-747e-bd03-9de9efd98a21",
         "9d0e702d-50a0-3f4c-9126-0951d560fd4b",
         "179a5ef5-b06b-39c2-82f8-b552b709eb3c",
         "8fa6c185-e44e-3e34-8bd8-39be8694f4ce",
         "ambulatory",
         1032,
         "Hospital Encounter with Problem",
         85.55,
         85.55,
         0.0,
         "NULL",
         "12:17:11",
         "12:32:11"
        ],
        [
         "67deb48d-6bc0-8142-189d-1f10abc7c6bc",
         "2018-12-13",
         "2018-12-13",
         "a3a96fd1-3638-41d3-72dc-efc248f2b887",
         "217cb6f6-e822-3831-9d9d-ffa104971042",
         "7077be2a-5b48-35f1-98b8-5e5b5a42343b",
         "26aab0cd-6aba-3e1b-ac5b-05c8867e762c",
         "ambulatory",
         1032,
         "Hospital Encounter with Problem",
         85.55,
         85.55,
         0.0,
         "NULL",
         "23:11:54",
         "23:26:54"
        ],
        [
         "de112f81-cfa9-ab77-8c56-e7ee074a0abe",
         "2022-10-09",
         "2022-10-09",
         "b1a0a29e-113d-903c-6cef-016235be98e8",
         "ae3eab22-8868-37bb-9a59-2b8bfe14bf34",
         "1e9fb93b-b6e1-3e44-b1d6-cb0c323bee95",
         "d31fccc3-1767-390d-966a-22a5156f4219",
         "ambulatory",
         1032,
         "Hospital Encounter with Problem",
         85.55,
         85.55,
         0.0,
         "NULL",
         "01:53:22",
         "02:08:22"
        ],
        [
         "ea6202ee-7152-3e80-d779-5a53fe351f19",
         "2020-05-09",
         "2020-05-09",
         "bd603d4c-3093-2104-e5f0-360cb08b7536",
         "901c2d40-1ca3-3879-9a20-c663b8adc0a9",
         "ec66f0b4-c703-33ad-ac54-5c1480a450de",
         "b046940f-1664-3047-bca7-dfa76be352a4",
         "ambulatory",
         1032,
         "Hospital Encounter with Problem",
         85.55,
         85.55,
         21.71,
         "NULL",
         "13:34:31",
         "13:49:31"
        ],
        [
         "1ace1153-4699-5c0c-4f3a-58cb3c2ec648",
         "2022-03-05",
         "2022-03-05",
         "2afea9cf-f03f-7408-0535-d640b003c339",
         "5018c664-e283-30eb-932a-529d9a19b3b5",
         "0204406f-f2dd-35c4-8945-a4d788d4a287",
         "b046940f-1664-3047-bca7-dfa76be352a4",
         "ambulatory",
         1032,
         "Hospital Encounter with Problem",
         85.55,
         85.55,
         0.0,
         "NULL",
         "08:43:58",
         "08:58:58"
        ],
        [
         "74c235c9-59c0-94b7-ec80-108da7a1165f",
         "2017-08-31",
         "2017-08-31",
         "0fab3069-e6e1-33a8-c21c-580c6cc989f4",
         "b6eeaaf7-1683-3bcb-b6ee-81ce304636ef",
         "9deecdc7-972f-378a-8659-6981b6cd3bd4",
         "e03e23c9-4df1-3eb6-a62d-f70f02301496",
         "ambulatory",
         1032,
         "Hospital Encounter with Problem",
         85.55,
         85.55,
         0.0,
         "NULL",
         "17:23:50",
         "17:38:50"
        ],
        [
         "8f45763c-ea2d-e462-7f94-5b0a95247b8e",
         "2022-05-12",
         "2022-05-12",
         "4361f740-2bce-01eb-00d1-5b3344ae7464",
         "0fedae9f-701f-3317-9b2f-69aea2202cdc",
         "abdf12f9-2a02-3ca4-8b36-673a675a6771",
         "b046940f-1664-3047-bca7-dfa76be352a4",
         "ambulatory",
         1032,
         "Hospital Encounter with Problem",
         85.55,
         85.55,
         0.0,
         "NULL",
         "08:13:56",
         "08:28:56"
        ],
        [
         "7eedb204-e714-7944-8fe4-35bcc593daf1",
         "2016-12-18",
         "2016-12-18",
         "dc5fe737-c79e-66d7-b834-cec1ae473dab",
         "20df65a4-7567-3066-b680-0f71b0c31d38",
         "13bd9bb2-e784-35c1-8a3d-cb10f8488571",
         "0133f751-9229-3cfd-815f-b6d4979bdd6a",
         "ambulatory",
         1032,
         "Hospital Encounter with Problem",
         85.55,
         85.55,
         85.55,
         "NULL",
         "06:40:37",
         "06:55:37"
        ],
        [
         "0f640694-f5f5-ef8e-a582-c2b2ceaf8e6a",
         "2019-07-28",
         "2019-07-28",
         "a9562614-9c3a-6246-a12e-10cff583a743",
         "a537b406-fdfa-36b4-84da-12512e7e6c63",
         "e714484d-1a16-3a8c-98fe-842ff9655cd5",
         "26aab0cd-6aba-3e1b-ac5b-05c8867e762c",
         "ambulatory",
         1032,
         "Hospital Encounter with Problem",
         85.55,
         85.55,
         0.0,
         "NULL",
         "22:24:47",
         "22:39:47"
        ]
       ],
       "datasetInfos": [],
       "dbfsResultPath": null,
       "isJsonSchema": true,
       "metadata": {},
       "overflow": false,
       "plotOptions": {
        "customPlotOptions": {},
        "displayType": "table",
        "pivotAggregation": null,
        "pivotColumns": null,
        "xColumns": null,
        "yColumns": null
       },
       "removedWidgets": [],
       "schema": [
        {
         "metadata": "{}",
         "name": "encounter_id",
         "type": "\"string\""
        },
        {
         "metadata": "{}",
         "name": "start_date",
         "type": "\"date\""
        },
        {
         "metadata": "{}",
         "name": "stop_date",
         "type": "\"date\""
        },
        {
         "metadata": "{}",
         "name": "patient_id",
         "type": "\"string\""
        },
        {
         "metadata": "{}",
         "name": "organization",
         "type": "\"string\""
        },
        {
         "metadata": "{}",
         "name": "provider",
         "type": "\"string\""
        },
        {
         "metadata": "{}",
         "name": "payer",
         "type": "\"string\""
        },
        {
         "metadata": "{}",
         "name": "encounterclass",
         "type": "\"string\""
        },
        {
         "metadata": "{}",
         "name": "encounter_code",
         "type": "\"integer\""
        },
        {
         "metadata": "{}",
         "name": "description",
         "type": "\"string\""
        },
        {
         "metadata": "{}",
         "name": "base_encounter_cost",
         "type": "\"double\""
        },
        {
         "metadata": "{}",
         "name": "total_claim_cost",
         "type": "\"double\""
        },
        {
         "metadata": "{}",
         "name": "payer_coverage",
         "type": "\"double\""
        },
        {
         "metadata": "{}",
         "name": "reasoncode",
         "type": "\"string\""
        },
        {
         "metadata": "{}",
         "name": "start_time",
         "type": "\"string\""
        },
        {
         "metadata": "{}",
         "name": "end_time",
         "type": "\"string\""
        }
       ],
       "type": "table"
      }
     },
     "output_type": "display_data"
    }
   ],
   "source": [
    "\n",
    "def execute():\n",
    "    spark = SparkSession.builder.appName(\"Healthcare_ETL\").getOrCreate()\n",
    "    patients_schema, encounters_schema, conditions_schema, immunizations_schema = define_schemas()\n",
    "    patients_df, encounters_df, conditions_df, immunizations_df = extract_data(spark, patients_schema, encounters_schema, conditions_schema, immunizations_schema )\n",
    "    transform_data(patients_df, encounters_df, conditions_df, immunizations_df)\n",
    "\n",
    "execute()"
   ]
  },
  {
   "cell_type": "code",
   "execution_count": 0,
   "metadata": {
    "application/vnd.databricks.v1+cell": {
     "cellMetadata": {
      "byteLimit": 2048000,
      "rowLimit": 10000
     },
     "inputWidgets": {},
     "nuid": "c5dba927-bb40-422b-8954-f448f6db4eed",
     "showTitle": false,
     "tableResultSettingsMap": {},
     "title": ""
    }
   },
   "outputs": [],
   "source": [
    "    "
   ]
  },
  {
   "cell_type": "code",
   "execution_count": 0,
   "metadata": {
    "application/vnd.databricks.v1+cell": {
     "cellMetadata": {
      "byteLimit": 2048000,
      "rowLimit": 10000
     },
     "inputWidgets": {},
     "nuid": "dda0febd-6c11-47a3-bb9d-00746af5ed36",
     "showTitle": false,
     "tableResultSettingsMap": {},
     "title": ""
    }
   },
   "outputs": [],
   "source": []
  },
  {
   "cell_type": "code",
   "execution_count": 0,
   "metadata": {
    "application/vnd.databricks.v1+cell": {
     "cellMetadata": {
      "byteLimit": 2048000,
      "rowLimit": 10000
     },
     "inputWidgets": {},
     "nuid": "947d9050-3c9a-4afd-ae68-fa27abfac904",
     "showTitle": false,
     "tableResultSettingsMap": {},
     "title": ""
    }
   },
   "outputs": [],
   "source": []
  },
  {
   "cell_type": "code",
   "execution_count": 0,
   "metadata": {
    "application/vnd.databricks.v1+cell": {
     "cellMetadata": {
      "byteLimit": 2048000,
      "rowLimit": 10000
     },
     "inputWidgets": {},
     "nuid": "41e62982-f73e-4357-9970-4e1a7a5fa91b",
     "showTitle": false,
     "tableResultSettingsMap": {},
     "title": ""
    }
   },
   "outputs": [],
   "source": []
  }
 ],
 "metadata": {
  "application/vnd.databricks.v1+notebook": {
   "computePreferences": null,
   "dashboards": [],
   "environmentMetadata": {
    "base_environment": "",
    "client": "1"
   },
   "language": "python",
   "notebookMetadata": {
    "pythonIndentUnit": 4
   },
   "notebookName": "health-care-pyspark-project",
   "widgets": {}
  }
 },
 "nbformat": 4,
 "nbformat_minor": 0
}
