{
 "cells": [
  {
   "cell_type": "code",
   "execution_count": 0,
   "metadata": {
    "application/vnd.databricks.v1+cell": {
     "cellMetadata": {
      "byteLimit": 2048000,
      "rowLimit": 10000
     },
     "inputWidgets": {},
     "nuid": "e956c6c8-3cb0-4c78-b440-e7d4aee25d90",
     "showTitle": false,
     "tableResultSettingsMap": {},
     "title": ""
    }
   },
   "outputs": [
    {
     "output_type": "display_data",
     "data": {
      "text/html": [
       "\n",
       "            <div>\n",
       "                <p><b>SparkSession - hive</b></p>\n",
       "                \n",
       "        <div>\n",
       "            <p><b>SparkContext</b></p>\n",
       "\n",
       "            <p><a href=\"/?o=3382754090532250#setting/sparkui/0213-110822-atijtp9o/driver-8734368269947653858\">Spark UI</a></p>\n",
       "\n",
       "            <dl>\n",
       "              <dt>Version</dt>\n",
       "                <dd><code>v3.3.2</code></dd>\n",
       "              <dt>Master</dt>\n",
       "                <dd><code>local[8]</code></dd>\n",
       "              <dt>AppName</dt>\n",
       "                <dd><code>Databricks Shell</code></dd>\n",
       "            </dl>\n",
       "        </div>\n",
       "        \n",
       "            </div>\n",
       "        "
      ]
     },
     "metadata": {
      "application/vnd.databricks.v1+output": {
       "addedWidgets": {},
       "arguments": {},
       "data": "\n            <div>\n                <p><b>SparkSession - hive</b></p>\n                \n        <div>\n            <p><b>SparkContext</b></p>\n\n            <p><a href=\"/?o=3382754090532250#setting/sparkui/0213-110822-atijtp9o/driver-8734368269947653858\">Spark UI</a></p>\n\n            <dl>\n              <dt>Version</dt>\n                <dd><code>v3.3.2</code></dd>\n              <dt>Master</dt>\n                <dd><code>local[8]</code></dd>\n              <dt>AppName</dt>\n                <dd><code>Databricks Shell</code></dd>\n            </dl>\n        </div>\n        \n            </div>\n        ",
       "datasetInfos": [],
       "metadata": {},
       "removedWidgets": [],
       "textData": null,
       "type": "htmlSandbox"
      }
     },
     "output_type": "display_data"
    }
   ],
   "source": [
    "spark"
   ]
  },
  {
   "cell_type": "code",
   "execution_count": 0,
   "metadata": {
    "application/vnd.databricks.v1+cell": {
     "cellMetadata": {
      "byteLimit": 2048000,
      "rowLimit": 10000
     },
     "inputWidgets": {},
     "nuid": "36ebfdf3-bd9e-458b-b16f-31c03de0c9c6",
     "showTitle": false,
     "tableResultSettingsMap": {},
     "title": ""
    }
   },
   "outputs": [],
   "source": [
    "# importing Spark session from pyspark.sql\n",
    "from pyspark.sql import SparkSession \n",
    "\n",
    "# Creating Spark Session with Appname\n",
    "spark = SparkSession.builder.appName(\"Health Care Data Engineering Spark Project\").getOrCreate()\n",
    "\n",
    "# getOrCreate() this will get the app if created or else it will create a new session"
   ]
  },
  {
   "cell_type": "code",
   "execution_count": 0,
   "metadata": {
    "application/vnd.databricks.v1+cell": {
     "cellMetadata": {
      "byteLimit": 2048000,
      "rowLimit": 10000
     },
     "inputWidgets": {},
     "nuid": "00ea3e1d-6bb0-45a8-863d-419e2361f6f5",
     "showTitle": false,
     "tableResultSettingsMap": {},
     "title": ""
    }
   },
   "outputs": [],
   "source": [
    "# Read Health Data CSV Files from AWS S3 Bucket\n",
    "conditions_df = spark.read.format(\"csv\").option(\"header\",\"true\").load(\"s3://health-care-data-bucket/conditions.csv\")\n",
    "\n",
    "# initially AWS S3 Bucket was not public so I changed the bucket policy changed all the block settings from the AWS Console"
   ]
  },
  {
   "cell_type": "code",
   "execution_count": 0,
   "metadata": {
    "application/vnd.databricks.v1+cell": {
     "cellMetadata": {
      "byteLimit": 2048000,
      "rowLimit": 10000
     },
     "inputWidgets": {},
     "nuid": "07a87e3d-722b-40d8-9a2a-4561d324f965",
     "showTitle": false,
     "tableResultSettingsMap": {},
     "title": ""
    }
   },
   "outputs": [
    {
     "output_type": "stream",
     "name": "stdout",
     "output_type": "stream",
     "text": [
      "+----------+----------+--------------------+--------------------+------+--------------------+\n|     start|      stop|             patient|           encounter|  code|         description|\n+----------+----------+--------------------+--------------------+------+--------------------+\n|1953-06-03|      NULL|531997f3-3373-058...|b67eb71d-01d4-e22...| 473.8|Other chronic sin...|\n|1952-03-12|      NULL|12556183-9867-11e...|56c1ae8b-c774-025...| 473.9|Unspecified sinus...|\n|1957-10-09|      NULL|82e05bd5-78f8-2fe...|5f37acfc-84c0-7ba...| V60.9|Unspecified housi...|\n|1954-02-13|1956-02-25|63dc3aeb-c77c-441...|4c822b22-96ee-f96...|V62.89|Other psychologic...|\n|1951-09-13|      NULL|d70308e9-5bce-115...|9967cce2-0a85-9dc...|   541|Appendicitis, unq...|\n+----------+----------+--------------------+--------------------+------+--------------------+\nonly showing top 5 rows\n\n"
     ]
    }
   ],
   "source": [
    "conditions_df.show(5)"
   ]
  },
  {
   "cell_type": "code",
   "execution_count": 0,
   "metadata": {
    "application/vnd.databricks.v1+cell": {
     "cellMetadata": {},
     "inputWidgets": {},
     "nuid": "643c7366-b62a-4e22-b0a1-8fc22306ac79",
     "showTitle": false,
     "tableResultSettingsMap": {},
     "title": ""
    }
   },
   "outputs": [],
   "source": []
  }
 ],
 "metadata": {
  "application/vnd.databricks.v1+notebook": {
   "computePreferences": null,
   "dashboards": [],
   "environmentMetadata": {
    "base_environment": "",
    "client": "1"
   },
   "language": "python",
   "notebookMetadata": {
    "pythonIndentUnit": 4
   },
   "notebookName": "health-care-data-apache-spark-project",
   "widgets": {}
  }
 },
 "nbformat": 4,
 "nbformat_minor": 0
}
